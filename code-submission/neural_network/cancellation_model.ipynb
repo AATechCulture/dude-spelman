{
 "cells": [
  {
   "cell_type": "code",
   "execution_count": 1,
   "metadata": {},
   "outputs": [
    {
     "ename": "ModuleNotFoundError",
     "evalue": "No module named 'sklearn'",
     "output_type": "error",
     "traceback": [
      "\u001b[0;31m---------------------------------------------------------------------------\u001b[0m",
      "\u001b[0;31mModuleNotFoundError\u001b[0m                       Traceback (most recent call last)",
      "\u001b[1;32m/Users/elijah/Desktop/dude-spelman/code-submission/neural_network/cancellation_model.ipynb Cell 1\u001b[0m line \u001b[0;36m4\n\u001b[1;32m      <a href='vscode-notebook-cell:/Users/elijah/Desktop/dude-spelman/code-submission/neural_network/cancellation_model.ipynb#W0sZmlsZQ%3D%3D?line=1'>2</a>\u001b[0m \u001b[39mimport\u001b[39;00m \u001b[39mpandas\u001b[39;00m \u001b[39mas\u001b[39;00m \u001b[39mpd\u001b[39;00m\n\u001b[1;32m      <a href='vscode-notebook-cell:/Users/elijah/Desktop/dude-spelman/code-submission/neural_network/cancellation_model.ipynb#W0sZmlsZQ%3D%3D?line=2'>3</a>\u001b[0m \u001b[39mimport\u001b[39;00m \u001b[39mtensorflow\u001b[39;00m \u001b[39mas\u001b[39;00m \u001b[39mtf\u001b[39;00m\n\u001b[0;32m----> <a href='vscode-notebook-cell:/Users/elijah/Desktop/dude-spelman/code-submission/neural_network/cancellation_model.ipynb#W0sZmlsZQ%3D%3D?line=3'>4</a>\u001b[0m \u001b[39mfrom\u001b[39;00m \u001b[39msklearn\u001b[39;00m\u001b[39m.\u001b[39;00m\u001b[39mmodel_selection\u001b[39;00m \u001b[39mimport\u001b[39;00m train_test_split\n\u001b[1;32m      <a href='vscode-notebook-cell:/Users/elijah/Desktop/dude-spelman/code-submission/neural_network/cancellation_model.ipynb#W0sZmlsZQ%3D%3D?line=5'>6</a>\u001b[0m \u001b[39m# Load and preprocess the dataset (same as previous example)\u001b[39;00m\n\u001b[1;32m      <a href='vscode-notebook-cell:/Users/elijah/Desktop/dude-spelman/code-submission/neural_network/cancellation_model.ipynb#W0sZmlsZQ%3D%3D?line=6'>7</a>\u001b[0m data \u001b[39m=\u001b[39m pd\u001b[39m.\u001b[39mread_csv(\u001b[39m\"\u001b[39m\u001b[39mflight_weather_dataset.csv\u001b[39m\u001b[39m\"\u001b[39m)\n",
      "\u001b[0;31mModuleNotFoundError\u001b[0m: No module named 'sklearn'"
     ]
    }
   ],
   "source": [
    "import numpy as np\n",
    "import pandas as pd\n",
    "import tensorflow as tf\n",
    "from sklearn.model_selection import train_test_split\n",
    "\n",
    "# TODO(elijahtruitt): We still need to finish collecting all this data to train the model.\n",
    "data = pd.read_csv(\"flight_weather_dataset.csv\")\n",
    "features = data[\n",
    "    [\n",
    "        \"percentChanceRain\",\n",
    "        \"WindSpeed\",\n",
    "        \"Temperature\",\n",
    "        \"RelativeHumidity\",\n",
    "        \"ShortForecast\",\n",
    "    ]\n",
    "]\n",
    "target = data[\"PercentChanceOfCancellation\"]\n",
    "\n",
    "# Split the data into a training and testing set.\n",
    "X_train, X_test, y_train, y_test = train_test_split(\n",
    "    features, target, test_size=0.2, random_state=32\n",
    ")\n",
    "\n",
    "# Define a neural network model for regression.\n",
    "model = tf.keras.models.Sequential(\n",
    "    [\n",
    "        tf.keras.layers.Input(shape=(5,)),  # Input layer with 5 features\n",
    "        tf.keras.layers.Dense(\n",
    "            64, activation=\"relu\"\n",
    "        ),  # Hidden layer with ReLU activation\n",
    "        tf.keras.layers.Dense(32, activation=\"relu\"),\n",
    "        tf.keras.layers.Dense(16, activation=\"relu\"),\n",
    "        tf.keras.layers.Dense(\n",
    "            1, activation=\"linear\"\n",
    "        ),  # Output layer with 1 unit and linear activation\n",
    "    ]\n",
    ")\n",
    "\n",
    "model.compile(optimizer=\"adam\", loss=\"mean_squared_error\")\n",
    "model.fit(X_train, y_train, epochs=10, batch_size=32, verbose=1)\n",
    "\n",
    "# Eval model.\n",
    "loss = model.evaluate(X_test, y_test)\n",
    "print(f\"Test loss (MSE): {loss:.2f}\")"
   ]
  }
 ],
 "metadata": {
  "kernelspec": {
   "display_name": "Python 3",
   "language": "python",
   "name": "python3"
  },
  "language_info": {
   "codemirror_mode": {
    "name": "ipython",
    "version": 3
   },
   "file_extension": ".py",
   "mimetype": "text/x-python",
   "name": "python",
   "nbconvert_exporter": "python",
   "pygments_lexer": "ipython3",
   "version": "3.10.11"
  }
 },
 "nbformat": 4,
 "nbformat_minor": 2
}
