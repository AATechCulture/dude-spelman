{
 "cells": [
  {
   "cell_type": "code",
   "execution_count": null,
   "metadata": {},
   "outputs": [],
   "source": [
    "import numpy as np\n",
    "import pandas as pd\n",
    "import tensorflow as tf\n",
    "from sklearn.model_selection import train_test_split\n",
    "\n",
    "# TODO(elijahtruitt): We still need to finish collecting all this data to train the model.\n",
    "data = pd.read_csv(\"flight_weather_dataset.csv\")\n",
    "features = data[\n",
    "    [\n",
    "        \"percentChanceRain\",\n",
    "        \"WindSpeed\",\n",
    "        \"Temperature\",\n",
    "        \"RelativeHumidity\",\n",
    "        \"ShortForecast\",\n",
    "    ]\n",
    "]\n",
    "target = data[\"PercentChanceOfCancellation\"]\n",
    "\n",
    "# Split the data into a training and testing set.\n",
    "X_train, X_test, y_train, y_test = train_test_split(\n",
    "    features, target, test_size=0.2, random_state=32\n",
    ")\n",
    "\n",
    "# Define a neural network model for regression.\n",
    "model = tf.keras.models.Sequential(\n",
    "    [\n",
    "        tf.keras.layers.Input(shape=(5,)),  # Input layer with 5 features\n",
    "        tf.keras.layers.Dense(\n",
    "            64, activation=\"relu\"\n",
    "        ),  # Hidden layer with ReLU activation\n",
    "        tf.keras.layers.Dense(32, activation=\"relu\"),\n",
    "        tf.keras.layers.Dense(16, activation=\"relu\"),\n",
    "        tf.keras.layers.Dense(\n",
    "            1, activation=\"linear\"\n",
    "        ),  # Output layer with 1 unit and linear activation\n",
    "    ]\n",
    ")\n",
    "\n",
    "model.compile(optimizer=\"adam\", loss=\"mean_squared_error\")\n",
    "model.fit(X_train, y_train, epochs=10, batch_size=32, verbose=1)\n",
    "\n",
    "# Eval model.\n",
    "loss = model.evaluate(X_test, y_test)\n",
    "print(f\"Test loss (MSE): {loss:.2f}\")"
   ]
  }
 ],
 "metadata": {
  "kernelspec": {
   "display_name": "Python 3",
   "language": "python",
   "name": "python3"
  },
  "language_info": {
   "codemirror_mode": {
    "name": "ipython",
    "version": 3
   },
   "file_extension": ".py",
   "mimetype": "text/x-python",
   "name": "python",
   "nbconvert_exporter": "python",
   "pygments_lexer": "ipython3",
   "version": "3.10.11"
  }
 },
 "nbformat": 4,
 "nbformat_minor": 2
}
